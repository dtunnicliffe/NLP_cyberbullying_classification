{
 "cells": [
  {
   "cell_type": "markdown",
   "metadata": {},
   "source": [
    "# Preprocessing, Modeling, and Evaluating"
   ]
  },
  {
   "cell_type": "code",
   "execution_count": 1,
   "metadata": {},
   "outputs": [],
   "source": [
    "# importing necessary libraries and packages\n",
    "import pandas as pd\n",
    "import numpy as np\n",
    "\n",
    "import re\n",
    "import string\n",
    "\n",
    "import nltk\n",
    "from nltk.corpus import stopwords\n",
    "from nltk.tokenize import TweetTokenizer\n",
    "from nltk.stem import PorterStemmer\n",
    "\n",
    "from sklearn.pipeline import Pipeline, FeatureUnion\n",
    "from sklearn.feature_extraction.text import CountVectorizer, TfidfTransformer\n",
    "\n",
    "import matplotlib.pyplot as plt\n",
    "%matplotlib inline\n",
    "import seaborn as sns\n",
    "\n",
    "from sklearn.linear_model import LogisticRegression\n",
    "from sklearn.tree import DecisionTreeClassifier\n",
    "from sklearn.ensemble import RandomForestClassifier\n",
    "from sklearn.naive_bayes import GaussianNB, MultinomialNB\n",
    "from sklearn import svm\n",
    "\n",
    "from sklearn.model_selection import train_test_split, GridSearchCV\n",
    "\n",
    "from sklearn.metrics import classification_report, accuracy_score, recall_score, f1_score, confusion_matrix, precision_recall_curve, plot_confusion_matrix, auc\n",
    "\n",
    "import pickle\n",
    "\n",
    "import eli5"
   ]
  },
  {
   "cell_type": "markdown",
   "metadata": {},
   "source": [
    "## Preprocessing"
   ]
  },
  {
   "cell_type": "code",
   "execution_count": 2,
   "metadata": {
    "scrolled": false
   },
   "outputs": [
    {
     "name": "stdout",
     "output_type": "stream",
     "text": [
      "<class 'pandas.core.frame.DataFrame'>\n",
      "RangeIndex: 239985 entries, 0 to 239984\n",
      "Data columns (total 2 columns):\n",
      " #   Column   Non-Null Count   Dtype  \n",
      "---  ------   --------------   -----  \n",
      " 0   content  239985 non-null  object \n",
      " 1   label    239985 non-null  float64\n",
      "dtypes: float64(1), object(1)\n",
      "memory usage: 3.7+ MB\n"
     ]
    }
   ],
   "source": [
    "# reading in combined dataframe from EDA notebook\n",
    "df = pd.read_csv('./data/combined_df.csv').drop(['Unnamed: 0'],axis=1)\n",
    "df.info()"
   ]
  },
  {
   "cell_type": "code",
   "execution_count": 3,
   "metadata": {},
   "outputs": [
    {
     "data": {
      "text/html": [
       "<div>\n",
       "<style scoped>\n",
       "    .dataframe tbody tr th:only-of-type {\n",
       "        vertical-align: middle;\n",
       "    }\n",
       "\n",
       "    .dataframe tbody tr th {\n",
       "        vertical-align: top;\n",
       "    }\n",
       "\n",
       "    .dataframe thead th {\n",
       "        text-align: right;\n",
       "    }\n",
       "</style>\n",
       "<table border=\"1\" class=\"dataframe\">\n",
       "  <thead>\n",
       "    <tr style=\"text-align: right;\">\n",
       "      <th></th>\n",
       "      <th>content</th>\n",
       "      <th>label</th>\n",
       "    </tr>\n",
       "  </thead>\n",
       "  <tbody>\n",
       "    <tr>\n",
       "      <th>0</th>\n",
       "      <td>Get fucking real dude.</td>\n",
       "      <td>1.0</td>\n",
       "    </tr>\n",
       "    <tr>\n",
       "      <th>1</th>\n",
       "      <td>She is as dirty as they come  and that crook ...</td>\n",
       "      <td>1.0</td>\n",
       "    </tr>\n",
       "    <tr>\n",
       "      <th>2</th>\n",
       "      <td>why did you fuck it up. I could do it all day...</td>\n",
       "      <td>1.0</td>\n",
       "    </tr>\n",
       "    <tr>\n",
       "      <th>3</th>\n",
       "      <td>Dude they dont finish enclosing the fucking s...</td>\n",
       "      <td>1.0</td>\n",
       "    </tr>\n",
       "    <tr>\n",
       "      <th>4</th>\n",
       "      <td>WTF are you talking about Men? No men thats n...</td>\n",
       "      <td>1.0</td>\n",
       "    </tr>\n",
       "  </tbody>\n",
       "</table>\n",
       "</div>"
      ],
      "text/plain": [
       "                                             content  label\n",
       "0                             Get fucking real dude.    1.0\n",
       "1   She is as dirty as they come  and that crook ...    1.0\n",
       "2   why did you fuck it up. I could do it all day...    1.0\n",
       "3   Dude they dont finish enclosing the fucking s...    1.0\n",
       "4   WTF are you talking about Men? No men thats n...    1.0"
      ]
     },
     "execution_count": 3,
     "metadata": {},
     "output_type": "execute_result"
    }
   ],
   "source": [
    "# previewing the first 5 rows\n",
    "df.head()"
   ]
  },
  {
   "cell_type": "code",
   "execution_count": 4,
   "metadata": {},
   "outputs": [],
   "source": [
    "# defining features and target \n",
    "\n",
    "features = df['content']\n",
    "\n",
    "target = df['label']"
   ]
  },
  {
   "cell_type": "markdown",
   "metadata": {},
   "source": [
    "Some of the preprocessing, such as combining dataframes into one, dropping and renaming certain columns, and removal of null values and duplicates, was done in the EDA notebook. Due to the nature of NLP, I chose to pause the preprocessing there before working on some visualizations. I began this notebook by importing the saved dataframe from that point.  \n",
    "\n",
    "My next task will be to complete the preprocessing of this data by removing anything that is not a number or an English letter. I will then remove English stop words and usernames/user handles.  \n",
    "\n",
    "I will tokenize the content using the TweetTokenizer (as explored in EDA notebook). I also have chosen to stem my tokens instead of lemmatizing them, because stemming has been shown to improve recall while lemmatizing can hurt recall scores. As I will explain more in-depth in the model evaluation, priortizing recall is important to this task so that we may prioritize the prediction of cyberbullying content and minimize the amount of Type II errors (false negatives) where hate speech goes unpredicted."
   ]
  },
  {
   "cell_type": "code",
   "execution_count": 5,
   "metadata": {},
   "outputs": [],
   "source": [
    "# regular expression to identify non-ascii characters in content\n",
    "non_ascii_regex = r'[^\\x00-\\x7F]+'\n",
    "\n",
    "# defining stop words\n",
    "stopword_list = stopwords.words('english')\n",
    "stopword_list += list(string.punctuation)\n",
    "\n",
    "# function to remove special characters, tokenize, and stem content\n",
    "def process(content):\n",
    "    \n",
    "    # using library re to replace non ascii characters by a space\n",
    "    text = re.sub(non_ascii_regex, ' ', content)\n",
    "\n",
    "    # instantiating TweetTokenizer\n",
    "    tk = TweetTokenizer(strip_handles=True)\n",
    "    # tokenizing the content & removing usernames\n",
    "    tokens = tk.tokenize(content)\n",
    "    \n",
    "    # instantiating stemmer\n",
    "    ps = PorterStemmer()\n",
    "\n",
    "    # stemming the tokens and removing the stopwords\n",
    "    clean_tokens = []\n",
    "    for token in tokens:\n",
    "        if token not in stopword_list:\n",
    "            try:\n",
    "                clean_tokens.append(ps.stem(token.lower()))\n",
    "            except:\n",
    "                pass\n",
    "        \n",
    "    # return the tokens\n",
    "    return clean_tokens"
   ]
  },
  {
   "cell_type": "code",
   "execution_count": 6,
   "metadata": {},
   "outputs": [
    {
     "name": "stdout",
     "output_type": "stream",
     "text": [
      "Content before removing stop words:  @Bahai144 @greta So get your fat ass off the couch and go and fight ISIS.  What is your problem? Are your legs broken or are you a coward?\n",
      "\n",
      " Tokens after removing usernames and stop words:  ['so', 'get', 'fat', 'ass', 'couch', 'go', 'fight', 'isi', 'what', 'problem', 'are', 'leg', 'broken', 'coward']\n"
     ]
    }
   ],
   "source": [
    "print(\"Content before removing stop words: \", df.content[222462])\n",
    "print(\"\\n Tokens after removing usernames and stop words: \", process(df.content[222462]))"
   ]
  },
  {
   "cell_type": "markdown",
   "metadata": {},
   "source": [
    "## Modeling"
   ]
  },
  {
   "cell_type": "markdown",
   "metadata": {},
   "source": [
    "Beginning the modeling process by performing train_test_split to separate X and y before vectorizing. Performing train_test_split before vectorization is considered best practice to avoid data leakage. "
   ]
  },
  {
   "cell_type": "code",
   "execution_count": 7,
   "metadata": {},
   "outputs": [],
   "source": [
    "# splitting the data into train and test sets\n",
    "# made use of stratify parameter to force equal representation of classes \n",
    "# in both train and test set\n",
    "\n",
    "X_train, X_test, y_train, y_test = train_test_split(features, target, stratify=target, test_size=0.3, random_state=42)"
   ]
  },
  {
   "cell_type": "markdown",
   "metadata": {},
   "source": [
    "### Baseline Model\n",
    "For my baseline model, I fitted a simple decision tree pipeline with no hyperparameter tuning. The pipeline uses count vectorization as well as TF-IDF vectorization, and the 'process' function defined above.  \n",
    "\n",
    "I opted to vectorize in this way because for this particular problem, the focus is on the specific words, not the order of words being used. When dealing with the problem of cyberbullying, as illustrated in the EDA notebook previously, there are many words that are offensive on their own and in any context, and these words should generally be associated with cyberbullying. \n",
    "\n",
    "For all models, class_weight parameter will be 'balanced' to balance the classes and random_state will be set to 42 for reproducibility."
   ]
  },
  {
   "cell_type": "code",
   "execution_count": 8,
   "metadata": {},
   "outputs": [],
   "source": [
    "# Decision Tree Pipeline\n",
    "tree_pipeline = Pipeline([\n",
    "        ('text_pipeline', Pipeline([\n",
    "            ('count_vect', CountVectorizer(tokenizer=process)),\n",
    "            ('tfidf', TfidfTransformer())\n",
    "        ])),\n",
    "        ('clf', DecisionTreeClassifier(criterion='gini', max_depth=5, class_weight= 'balanced', random_state=42))\n",
    "])"
   ]
  },
  {
   "cell_type": "code",
   "execution_count": 9,
   "metadata": {},
   "outputs": [
    {
     "data": {
      "text/plain": [
       "Pipeline(steps=[('text_pipeline',\n",
       "                 Pipeline(steps=[('count_vect',\n",
       "                                  CountVectorizer(tokenizer=<function process at 0x7fbe95d50c80>)),\n",
       "                                 ('tfidf', TfidfTransformer())])),\n",
       "                ('clf',\n",
       "                 DecisionTreeClassifier(class_weight='balanced', max_depth=5,\n",
       "                                        random_state=42))])"
      ]
     },
     "execution_count": 9,
     "metadata": {},
     "output_type": "execute_result"
    }
   ],
   "source": [
    "tree_pipeline.fit(X_train, y_train)"
   ]
  },
  {
   "cell_type": "code",
   "execution_count": 10,
   "metadata": {
    "scrolled": false
   },
   "outputs": [
    {
     "name": "stdout",
     "output_type": "stream",
     "text": [
      "              precision    recall  f1-score   support\n",
      "\n",
      "         0.0       0.97      0.40      0.57     63729\n",
      "         1.0       0.17      0.91      0.28      8267\n",
      "\n",
      "    accuracy                           0.46     71996\n",
      "   macro avg       0.57      0.66      0.42     71996\n",
      "weighted avg       0.88      0.46      0.54     71996\n",
      "\n"
     ]
    },
    {
     "data": {
      "image/png": "[encoded data removed]",
      "text/plain": [
       "<Figure size 432x288 with 2 Axes>"
      ]
     },
     "metadata": {
      "needs_background": "light"
     },
     "output_type": "display_data"
    }
   ],
   "source": [
    "# getting predictions\n",
    "y_pred = tree_pipeline.predict(X_test)\n",
    "\n",
    "# print the classification report to see model metrics\n",
    "print(classification_report(y_test, y_pred))\n",
    "\n",
    "# plotting confusion matrix to evaluate model\n",
    "plot_confusion_matrix(tree_pipeline, X_test, y_test,cmap=\"GnBu\");"
   ]
  },
  {
   "cell_type": "markdown",
   "metadata": {},
   "source": [
    "Baseline model has an accuracy of 46% and a recall score of 91%. While I will be prioritizing recall for this project, I was hoping for more of a balance. The accuracy here leaves much to be desired. "
   ]
  },
  {
   "cell_type": "code",
   "execution_count": 11,
   "metadata": {},
   "outputs": [],
   "source": [
    "# saving model\n",
    "#with open('pickles/tree_pipeline.pkl', 'wb') as f:\n",
    "#    pickle.dump(tree_pipeline, f)"
   ]
  },
  {
   "cell_type": "markdown",
   "metadata": {},
   "source": [
    "### Logistic Regression Model"
   ]
  },
  {
   "cell_type": "code",
   "execution_count": 12,
   "metadata": {},
   "outputs": [],
   "source": [
    "# Logistic Regression Pipeline\n",
    "lr_pipeline = Pipeline([\n",
    "        ('text_pipeline', Pipeline([\n",
    "            ('count_vect', CountVectorizer(tokenizer=process)),\n",
    "            ('tfidf', TfidfTransformer())\n",
    "        ])),\n",
    "        ('clf', LogisticRegression(max_iter=10000, class_weight= 'balanced', random_state=42))\n",
    "])"
   ]
  },
  {
   "cell_type": "code",
   "execution_count": 13,
   "metadata": {
    "scrolled": false
   },
   "outputs": [
    {
     "data": {
      "text/plain": [
       "Pipeline(steps=[('text_pipeline',\n",
       "                 Pipeline(steps=[('count_vect',\n",
       "                                  CountVectorizer(tokenizer=<function process at 0x7fbe95d50c80>)),\n",
       "                                 ('tfidf', TfidfTransformer())])),\n",
       "                ('clf',\n",
       "                 LogisticRegression(class_weight='balanced', max_iter=10000,\n",
       "                                    random_state=42))])"
      ]
     },
     "execution_count": 13,
     "metadata": {},
     "output_type": "execute_result"
    }
   ],
   "source": [
    "lr_pipeline.fit(X_train, y_train)"
   ]
  },
  {
   "cell_type": "code",
   "execution_count": 14,
   "metadata": {},
   "outputs": [
    {
     "name": "stdout",
     "output_type": "stream",
     "text": [
      "              precision    recall  f1-score   support\n",
      "\n",
      "         0.0       0.97      0.90      0.93     63729\n",
      "         1.0       0.51      0.82      0.63      8267\n",
      "\n",
      "    accuracy                           0.89     71996\n",
      "   macro avg       0.74      0.86      0.78     71996\n",
      "weighted avg       0.92      0.89      0.90     71996\n",
      "\n"
     ]
    }
   ],
   "source": [
    "y_pred = lr_pipeline.predict(X_test)\n",
    "\n",
    "print(classification_report(y_test, y_pred))"
   ]
  },
  {
   "cell_type": "code",
   "execution_count": 15,
   "metadata": {},
   "outputs": [
    {
     "data": {
      "image/png": "[encoded data removed]",
      "text/plain": [
       "<Figure size 432x288 with 2 Axes>"
      ]
     },
     "metadata": {
      "needs_background": "light"
     },
     "output_type": "display_data"
    }
   ],
   "source": [
    "# plotting confusion matrix to evaluate model\n",
    "plot_confusion_matrix(lr_pipeline, X_test, y_test,cmap=\"GnBu\");"
   ]
  },
  {
   "cell_type": "markdown",
   "metadata": {},
   "source": [
    "This logistic regression model with no hyperparameter tuning has 89% accuracy and 82% recall. Not bad!"
   ]
  },
  {
   "cell_type": "code",
   "execution_count": 16,
   "metadata": {},
   "outputs": [],
   "source": [
    "# saving model\n",
    "# with open('pickles/lr_pipeline.pkl', 'wb') as f:\n",
    "#    pickle.dump(lr_pipeline, f)"
   ]
  },
  {
   "cell_type": "markdown",
   "metadata": {},
   "source": [
    "### Logistic Regression with Grid Search"
   ]
  },
  {
   "cell_type": "markdown",
   "metadata": {},
   "source": [
    "I'm hoping to improve upon the previous scores by hyperparameter tuning this model with a Grid Search."
   ]
  },
  {
   "cell_type": "code",
   "execution_count": 17,
   "metadata": {},
   "outputs": [],
   "source": [
    "# setting generic grid search parameters\n",
    "param_range = [1, 2, 3, 4, 5, 6, 7, 8, 9, 10]\n",
    "param_range_small = [1.0, 0.5, 0.1]"
   ]
  },
  {
   "cell_type": "code",
   "execution_count": 18,
   "metadata": {},
   "outputs": [],
   "source": [
    "# function to create a grid search containing pipeline\n",
    "def gridsearch_maker(pipeline, params):\n",
    "    '''Takes in a pipeline and param grid, returns GridSearchCV object'''\n",
    "    return GridSearchCV(estimator=pipeline,\n",
    "                        param_grid=params,\n",
    "                        scoring='recall',\n",
    "                        cv=10,\n",
    "                        n_jobs=-1)"
   ]
  },
  {
   "cell_type": "code",
   "execution_count": 19,
   "metadata": {},
   "outputs": [],
   "source": [
    "def find_best_recall(gridsearch):\n",
    "    \"\"\" \n",
    "    Runs a grid search iterating through predefined grid params and returns best params to optimize recall score. \n",
    "  \n",
    "    Fits classifier to X_train and y_train.\n",
    "    Determines and prints best params for recall.\n",
    "    Determines and prints best training set recall.\n",
    "    Predicts on test data using best params.\n",
    "    Prints best test set recall.\n",
    "    Prints classification report for best model.\n",
    "    Plots confusion matrix for best model.\n",
    "  \n",
    "    Parameters: \n",
    "    gridsearch: Predefined instance of GridsearchCV with parameters and estimator/pipeline already set.\n",
    "  \n",
    "    Returns: \n",
    "    Best parameters for particular grid search, based on recall score.\n",
    "    Best training set recall.\n",
    "    Best test set recall.\n",
    "    Classification report for best model.\n",
    "    Confusion matrix for best model.\n",
    "  \n",
    "    \"\"\"\n",
    "    # fitting the grid search objects\n",
    "    best_recall = 0.0\n",
    "    # fitting grid search\n",
    "    gridsearch.fit(X_train, y_train)\n",
    "    # best params\n",
    "    print('Best params: %s' % gridsearch.best_params_)\n",
    "    # best training data recall\n",
    "    print('Best training recall: %.3f' % gridsearch.best_score_)\n",
    "    # predict on test data with best params\n",
    "    y_pred = gridsearch.predict(X_test)\n",
    "    # test data recall with best params\n",
    "    print('Test set recall score for best params: %.3f ' % recall_score(y_test, y_pred))\n",
    "    # confusion matrix and classification report\n",
    "    print(confusion_matrix(y_test, y_pred))\n",
    "    print(classification_report(y_test, y_pred))\n",
    "    print('Recall score: ',recall_score(y_test, y_pred))\n",
    "    # plotting confusion matrix\n",
    "    plot_confusion_matrix(gridsearch, X_test, y_test,cmap=\"GnBu\")\n",
    "    plt.show()"
   ]
  },
  {
   "cell_type": "code",
   "execution_count": 20,
   "metadata": {
    "scrolled": false
   },
   "outputs": [
    {
     "name": "stdout",
     "output_type": "stream",
     "text": [
      "Best params: {'clf__C': 0.5, 'clf__penalty': 'l1', 'clf__solver': 'liblinear'}\n",
      "Best training recall: 0.828\n",
      "Test set recall score for best params: 0.832 \n",
      "[[56661  7068]\n",
      " [ 1387  6880]]\n",
      "              precision    recall  f1-score   support\n",
      "\n",
      "         0.0       0.98      0.89      0.93     63729\n",
      "         1.0       0.49      0.83      0.62      8267\n",
      "\n",
      "    accuracy                           0.88     71996\n",
      "   macro avg       0.73      0.86      0.77     71996\n",
      "weighted avg       0.92      0.88      0.89     71996\n",
      "\n",
      "Recall score:  0.8322245070763276\n"
     ]
    },
    {
     "data": {
      "image/png": "[encoded data removed]",
      "text/plain": [
       "<Figure size 432x288 with 2 Axes>"
      ]
     },
     "metadata": {
      "needs_background": "light"
     },
     "output_type": "display_data"
    }
   ],
   "source": [
    "# setting grid search parameters\n",
    "grid_params_lr = [{'clf__penalty': ['l1', 'l2'],\n",
    "                   'clf__C': param_range_small,\n",
    "                   'clf__solver': ['liblinear']}]\n",
    "\n",
    "# creating grid search object\n",
    "gs_lr = gridsearch_maker(lr_pipeline, grid_params_lr)\n",
    "\n",
    "# finding best parameters for recall\n",
    "find_best_recall(gs_lr)"
   ]
  },
  {
   "cell_type": "markdown",
   "metadata": {},
   "source": [
    "The grid search returned the best possible logistic regression model as one with 88% accuracy and 83% recall -- only marginally better than the original, untuned logistic regression model. Still, to only miss 1,387 cyberbullying comments out of the 71,996 comments in the test set shows that the model is working! And 1,387 misclassified cyberbullying comments is still better than 1,487 misclassified cyberbullying comments in the prior model. "
   ]
  },
  {
   "cell_type": "code",
   "execution_count": 21,
   "metadata": {},
   "outputs": [],
   "source": [
    "# saving model\n",
    "# with open('pickles/bestlr_pipeline.pkl', 'wb') as f:\n",
    "#    pickle.dump(gs_lr.best_estimator_, f)\n",
    "    "
   ]
  },
  {
   "cell_type": "markdown",
   "metadata": {},
   "source": [
    "## Evaluation & Results\n",
    "The positive class for this dataset is comprised of content labeled as cyberbullying, and the negative class is comprised of content labeled as non-cyberbullying. The objective is to minimize false negatives and err on the side of caution. Being overly cautious is the ethical course of action when dealing with content that may cause harm. Misclassifying non-cyberbullying content as cyberbullying is a minor inconvenience, and one that could be disputed by the person posting the content; but misclassifying cyberbullying content as non-cyberbullying has far more serious consequences, particularly for youth and adolescents.\n",
    "\n",
    "I want to ensure that we catch every possible instance of harmful posts before they are publicly seen and can cause damage. Therefore, I have prioritized Recall/Sensitivity as the metric by which to evaluate the models. This will ensure that we can capture as many instances of the positive class as we can, which makes this the most important metric for the problem at hand. By doing this, we avoid false negatives or Type II errors.  \n",
    "\n",
    "\n",
    "That being said, my best model was the one using the Logistic Regression Classifier. This model achieved a recall score of 83%, meaning that 83% of the cyberbullying class in the test set was captured by the model. It has an accuracy score of 88%, meaning that 88% of the total predictions made by the model were correct. It is important to note that while there is a trade-off between recall and precision, which affects accuracy, it is tough to put a price on the safety and wellbeing of children. So I have chosen to prioritize recall at the expense of other metrics for this particular problem.  \n",
    "\n",
    "This model will be well-suited to real world application because it is fast, efficient, and good at making live predictions! Please see the following notebook, \"API_and_predict\", for a demonstration of applying this model to tweets obtained via Twython and the Twitter API. "
   ]
  },
  {
   "cell_type": "code",
   "execution_count": 22,
   "metadata": {},
   "outputs": [
    {
     "name": "stdout",
     "output_type": "stream",
     "text": [
      "F1=0.619, AUC=0.710\n"
     ]
    },
    {
     "data": {
      "image/png": "[encoded data removed]",
      "text/plain": [
       "<Figure size 432x288 with 1 Axes>"
      ]
     },
     "metadata": {
      "needs_background": "light"
     },
     "output_type": "display_data"
    }
   ],
   "source": [
    "# plotting precision-recall curve\n",
    "gs_lr.best_estimator_.fit(X_train, y_train)\n",
    "# predict probabilities\n",
    "probs = gs_lr.best_estimator_.predict_proba(X_test)\n",
    "# keep probabilities for the positive outcome only\n",
    "probs = probs[:, 1]\n",
    "# predict class values\n",
    "y_pred = gs_lr.best_estimator_.predict(X_test)\n",
    "precision, recall, _ = precision_recall_curve(y_test, probs)\n",
    "f1, auc = f1_score(y_test, y_pred), auc(recall, precision)\n",
    "# summarize scores\n",
    "print('F1=%.3f, AUC=%.3f' % (f1, auc))\n",
    "# plot the precision-recall curves\n",
    "no_skill = len(y_test[y_test==1]) / len(y_test)\n",
    "plt.plot([0, 1], [no_skill, no_skill], linestyle='--', label='No Skill')\n",
    "plt.plot(recall, precision, marker='.', label='Extra Trees')\n",
    "# axis labels\n",
    "plt.xlabel('Recall')\n",
    "plt.ylabel('Precision')\n",
    "# show the legend\n",
    "plt.legend()\n",
    "# show the plot\n",
    "plt.show()"
   ]
  },
  {
   "cell_type": "markdown",
   "metadata": {},
   "source": [
    "The precision-recall curve above shows the tradeoff between recall and precision. This is also demonstrated by the model's F1 score of 62%. The AUC or Area Under the Curve of 71% also confirms that this model is working relatively well. Based on the performance of the model, especially the recall/sensitivity rate of 88%, I am confident that the model can catch many instances of cyberbullying content."
   ]
  },
  {
   "cell_type": "markdown",
   "metadata": {},
   "source": [
    "### Analyzing Coefficients"
   ]
  },
  {
   "cell_type": "code",
   "execution_count": 63,
   "metadata": {},
   "outputs": [
    {
     "data": {
      "text/plain": [
       "LogisticRegression(C=0.5, class_weight='balanced', max_iter=10000, penalty='l1',\n",
       "                   random_state=42, solver='liblinear')"
      ]
     },
     "execution_count": 63,
     "metadata": {},
     "output_type": "execute_result"
    }
   ],
   "source": [
    "# building another version of the best_lr model\n",
    "# using best_params found above\n",
    "# not running process function on words (for EDA purposes)\n",
    "\n",
    "tfidf = TfidfVectorizer()\n",
    "\n",
    "X_train_tfidf = tfidf.fit_transform(X_train) \n",
    "X_test_tfidf = tfidf.transform(X_test) \n",
    "\n",
    "model = LogisticRegression(C=0.5, class_weight='balanced',\n",
    "                                    max_iter=10000, penalty='l1',\n",
    "                                    random_state=42, solver='liblinear')\n",
    "model.fit(X_train_tfidf, y_train)"
   ]
  },
  {
   "cell_type": "code",
   "execution_count": 79,
   "metadata": {},
   "outputs": [
    {
     "data": {
      "text/html": [
       "<div>\n",
       "<style scoped>\n",
       "    .dataframe tbody tr th:only-of-type {\n",
       "        vertical-align: middle;\n",
       "    }\n",
       "\n",
       "    .dataframe tbody tr th {\n",
       "        vertical-align: top;\n",
       "    }\n",
       "\n",
       "    .dataframe thead th {\n",
       "        text-align: right;\n",
       "    }\n",
       "</style>\n",
       "<table border=\"1\" class=\"dataframe\">\n",
       "  <thead>\n",
       "    <tr style=\"text-align: right;\">\n",
       "      <th></th>\n",
       "      <th>Features</th>\n",
       "      <th>Magnitude</th>\n",
       "    </tr>\n",
       "  </thead>\n",
       "  <tbody>\n",
       "    <tr>\n",
       "      <th>164327</th>\n",
       "      <td>sexist</td>\n",
       "      <td>16.687732</td>\n",
       "    </tr>\n",
       "    <tr>\n",
       "      <th>89938</th>\n",
       "      <td>idiot</td>\n",
       "      <td>14.271631</td>\n",
       "    </tr>\n",
       "    <tr>\n",
       "      <th>129858</th>\n",
       "      <td>notsexist</td>\n",
       "      <td>14.179114</td>\n",
       "    </tr>\n",
       "    <tr>\n",
       "      <th>174755</th>\n",
       "      <td>stupid</td>\n",
       "      <td>12.649374</td>\n",
       "    </tr>\n",
       "    <tr>\n",
       "      <th>121842</th>\n",
       "      <td>moron</td>\n",
       "      <td>11.918428</td>\n",
       "    </tr>\n",
       "    <tr>\n",
       "      <th>21343</th>\n",
       "      <td>asshole</td>\n",
       "      <td>11.590029</td>\n",
       "    </tr>\n",
       "    <tr>\n",
       "      <th>122768</th>\n",
       "      <td>mt8_9</td>\n",
       "      <td>10.981984</td>\n",
       "    </tr>\n",
       "    <tr>\n",
       "      <th>33883</th>\n",
       "      <td>bullshit</td>\n",
       "      <td>10.859483</td>\n",
       "    </tr>\n",
       "    <tr>\n",
       "      <th>74030</th>\n",
       "      <td>fuck</td>\n",
       "      <td>10.557327</td>\n",
       "    </tr>\n",
       "    <tr>\n",
       "      <th>89943</th>\n",
       "      <td>idiotic</td>\n",
       "      <td>9.877487</td>\n",
       "    </tr>\n",
       "    <tr>\n",
       "      <th>89951</th>\n",
       "      <td>idiots</td>\n",
       "      <td>9.859471</td>\n",
       "    </tr>\n",
       "    <tr>\n",
       "      <th>164789</th>\n",
       "      <td>shaner38</td>\n",
       "      <td>9.848361</td>\n",
       "    </tr>\n",
       "    <tr>\n",
       "      <th>25635</th>\n",
       "      <td>bastard</td>\n",
       "      <td>9.389969</td>\n",
       "    </tr>\n",
       "    <tr>\n",
       "      <th>175465</th>\n",
       "      <td>suck</td>\n",
       "      <td>9.206818</td>\n",
       "    </tr>\n",
       "    <tr>\n",
       "      <th>74055</th>\n",
       "      <td>fucker</td>\n",
       "      <td>9.139046</td>\n",
       "    </tr>\n",
       "    <tr>\n",
       "      <th>121851</th>\n",
       "      <td>morons</td>\n",
       "      <td>9.072116</td>\n",
       "    </tr>\n",
       "    <tr>\n",
       "      <th>120833</th>\n",
       "      <td>mohammed</td>\n",
       "      <td>8.916300</td>\n",
       "    </tr>\n",
       "    <tr>\n",
       "      <th>67976</th>\n",
       "      <td>faggot</td>\n",
       "      <td>8.858844</td>\n",
       "    </tr>\n",
       "    <tr>\n",
       "      <th>29241</th>\n",
       "      <td>bitch</td>\n",
       "      <td>8.696948</td>\n",
       "    </tr>\n",
       "    <tr>\n",
       "      <th>48970</th>\n",
       "      <td>cunt</td>\n",
       "      <td>8.635618</td>\n",
       "    </tr>\n",
       "  </tbody>\n",
       "</table>\n",
       "</div>"
      ],
      "text/plain": [
       "         Features  Magnitude\n",
       "164327     sexist  16.687732\n",
       "89938       idiot  14.271631\n",
       "129858  notsexist  14.179114\n",
       "174755     stupid  12.649374\n",
       "121842      moron  11.918428\n",
       "21343     asshole  11.590029\n",
       "122768      mt8_9  10.981984\n",
       "33883    bullshit  10.859483\n",
       "74030        fuck  10.557327\n",
       "89943     idiotic   9.877487\n",
       "89951      idiots   9.859471\n",
       "164789   shaner38   9.848361\n",
       "25635     bastard   9.389969\n",
       "175465       suck   9.206818\n",
       "74055      fucker   9.139046\n",
       "121851     morons   9.072116\n",
       "120833   mohammed   8.916300\n",
       "67976      faggot   8.858844\n",
       "29241       bitch   8.696948\n",
       "48970        cunt   8.635618"
      ]
     },
     "execution_count": 79,
     "metadata": {},
     "output_type": "execute_result"
    }
   ],
   "source": [
    "# extracting magnitude of coefficients\n",
    "feature_names = tfidf.get_feature_names()\n",
    "\n",
    "magnitude_df = pd.concat([pd.DataFrame(feature_names, columns = ['Features']),\n",
    "                                    pd.DataFrame(np.transpose(model.coef_), columns = ['Magnitude'])],axis = 1)\n",
    "\n",
    "magnitude_df = magnitude_df.sort_values(by='Magnitude', ascending=False)\n",
    "magnitude_df.head(20)"
   ]
  },
  {
   "cell_type": "code",
   "execution_count": 84,
   "metadata": {
    "scrolled": false
   },
   "outputs": [
    {
     "data": {
      "image/png": "[encoded data removed]",
      "text/plain": [
       "<Figure size 864x576 with 1 Axes>"
      ]
     },
     "metadata": {
      "needs_background": "light"
     },
     "output_type": "display_data"
    }
   ],
   "source": [
    "import warnings\n",
    "warnings.filterwarnings('ignore')\n",
    "magnitude_df = magnitude_df.head(30).sort_values(by='Magnitude', ascending=False)\n",
    "# plotting magnitude of the coefficients\n",
    "plt.figure(figsize=(12, 8))\n",
    "my_range=range(1,len(magnitude_df)+1)\n",
    "plt.hlines(y=my_range, xmin=0, xmax=magnitude_df['Magnitude'], color='mediumspringgreen')\n",
    "plt.plot(magnitude_df['Magnitude'], my_range, \"o\")\n",
    "plt.yticks(my_range, magnitude_df['Features'], fontsize=12)\n",
    "plt.title(\"Magnitude of Logistic Regression Coefficients\", fontsize=22)\n",
    "plt.xlabel('Coefficients', fontsize=18)\n",
    "plt.ylabel('Features', fontsize=18);\n",
    "#plt.xlim(0, 1);\n",
    "#saved in images as fig12\n",
    "plt.tight_layout()\n",
    "plt.savefig('./images/fig12.png')"
   ]
  },
  {
   "cell_type": "markdown",
   "metadata": {},
   "source": [
    "Looking at the magnitude of the coefficients, it is clear that many of the same words in the word cloud of common cyberbullying words were also weighted heavily by the model. (Note that for the purposes of this analysis, this version of the model was not tokenized, and thus includes usernames and multiple versions of the same word. I found this to be more meaningful than the stemmed tokens.)"
   ]
  },
  {
   "cell_type": "markdown",
   "metadata": {},
   "source": [
    "## Conclusion\n",
    "In conclusion, NLP and text classification provide easily accessible and interpretable insight into cyberbullying detection. ML models are able to predict if a post should be classified as cyberbullying, using the occurrence of offensive words, with a high level of recall/sensitivity. Between the high predictive power of these models and the expert knowledge of child psychologists and educators, youth and adolescent health could and should be prioritized. By doing this, the problem of online safety for children can be addressed.\n",
    "\n",
    "### Recommendations\n",
    "1. I recommend the use of a fast and efficient classification model, like the one above, to be implemented to predict cyberbullying in real-time and prevent this content from being posted in the first place. The metrics shown support this recommendation, and the demonstrations in the following notebook will show how well this can work on untrained data.\n",
    "2. Certain words have shown to be strong, frequent predictors of cyberbullying, with no context necessary. They manifest as high-frequency words in the cyberbullying class, and as model coefficients of larger magnitude. I recommend that these certain offensive words, as illustrated by the various EDA visualizations in this project, be blocked on sight. If a post contains one of these highly offensive words, the content should be flagged.\n",
    "3. I recommend keeping the focus on recall, as illustrated by the model and confusion matrices above, to focus on prevention above accuracy. Since the goal is to protect children from the harm that cyberbullying can cause, the most effective way to do so is to reduce Type II errors or false negatives."
   ]
  },
  {
   "cell_type": "markdown",
   "metadata": {},
   "source": [
    "## Future Work\n",
    "In the future, the metrics could potentially be improved by the use of deep learning techniques, such as neural networks for text classification. I also am curious about n-grams (bigrams, trigrams) and their importance for this type of data. I focused mainly on the \"trigger words\" that should immediately be flagged as cyberbullying, but the context and combinations of words could play an important role as well. Finallly, the acquisition of even more data would likely improve the metrics here as well.\n",
    "\n",
    "Stemming, lemmatizing, n-grams, embeddings, neural networks."
   ]
  }
 ],
 "metadata": {
  "kernelspec": {
   "display_name": "learn-env",
   "language": "python",
   "name": "learn-env"
  },
  "language_info": {
   "codemirror_mode": {
    "name": "ipython",
    "version": 3
   },
   "file_extension": ".py",
   "mimetype": "text/x-python",
   "name": "python",
   "nbconvert_exporter": "python",
   "pygments_lexer": "ipython3",
   "version": "3.6.9"
  }
 },
 "nbformat": 4,
 "nbformat_minor": 4
}
